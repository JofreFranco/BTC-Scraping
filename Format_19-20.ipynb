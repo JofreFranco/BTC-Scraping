{
 "cells": [
  {
   "cell_type": "markdown",
   "metadata": {},
   "source": [
    "### El objetivo es analizar qué criptomonedas tienen un comportamiento similar al bitcoin, para esto hay que quedarse solo con el capital de mercado, el volumen y el precio semanal. Se analizarán los últimos dos años."
   ]
  },
  {
   "cell_type": "markdown",
   "metadata": {},
   "source": [
    "###### Date,Rank,Nombre,Símbolo,Cap. de Mercado,Precio,Acciones en circulación,Volumen (24h),% 1h,% 24h,% 7d"
   ]
  },
  {
   "cell_type": "code",
   "execution_count": 9,
   "metadata": {},
   "outputs": [],
   "source": [
    "import csv\n",
    "import os\n",
    "from datetime import datetime"
   ]
  },
  {
   "cell_type": "code",
   "execution_count": 6,
   "metadata": {},
   "outputs": [],
   "source": [
    "HISTORY_DIR = './Crypto_history'\n",
    "LAST_YEARS_DIR = './Crypto_19-20' \n",
    "\n",
    "if not os.path.isdir(LAST_YEARS_DIR):\n",
    "    os.mkdir(LAST_YEAR_DIR)"
   ]
  },
  {
   "cell_type": "code",
   "execution_count": 26,
   "metadata": {},
   "outputs": [],
   "source": [
    "# Date format = 06 December 2020\n",
    "BTC_LENGHT = 102\n",
    "\n",
    "for csv_file in os.listdir(HISTORY_DIR):\n",
    "    file_name = os.path.join(HISTORY_DIR, csv_file)\n",
    "    new_file_name = os.path.join(LAST_YEARS_DIR, csv_file)\n",
    "\n",
    "    with open(file_name, \"r\") as file:\n",
    "        market_cap = [\"market_cap\"]\n",
    "        price = [\"price\"]\n",
    "        volume = [\"volume\"]\n",
    "        years = [\"year\"]\n",
    "        csv_reader = csv.reader(file, delimiter=\",\")\n",
    "        for index, row in enumerate(csv_reader):\n",
    "            if not index:\n",
    "                continue\n",
    "            date = row[0]\n",
    "            date = datetime.strptime(date, \"%d %B %Y\")\n",
    "            year = date.year\n",
    "            if year < 2019:\n",
    "                break\n",
    "            market_cap.append(row[4])\n",
    "            price.append(row[5])\n",
    "            volume.append(row[7])\n",
    "            years.append(year)\n",
    "            \n",
    "    if len(market_cap) == BTC_LENGHT:\n",
    "        num_price = [float(num) for num in price[1:]]\n",
    "        max_price = max(num_price)\n",
    "        normalized_price = [num / max_price for num in num_price]\n",
    "        normalized_price.insert(0, \"normalized_price\")\n",
    "        with open(new_file_name, \"w\") as new_file:\n",
    "            csv_writer = csv.writer(\n",
    "                new_file, delimiter=\",\", quotechar='\"', quoting=csv.QUOTE_MINIMAL\n",
    "            )\n",
    "            csv_writer.writerow(market_cap)\n",
    "            csv_writer.writerow(price)\n",
    "            csv_writer.writerow(normalized_price)\n",
    "            csv_writer.writerow(volume)\n",
    "            csv_writer.writerow(years)\n",
    "            "
   ]
  }
 ],
 "metadata": {
  "kernelspec": {
   "display_name": "Python 3",
   "language": "python",
   "name": "python3"
  },
  "language_info": {
   "codemirror_mode": {
    "name": "ipython",
    "version": 3
   },
   "file_extension": ".py",
   "mimetype": "text/x-python",
   "name": "python",
   "nbconvert_exporter": "python",
   "pygments_lexer": "ipython3",
   "version": "3.8.6"
  }
 },
 "nbformat": 4,
 "nbformat_minor": 4
}
